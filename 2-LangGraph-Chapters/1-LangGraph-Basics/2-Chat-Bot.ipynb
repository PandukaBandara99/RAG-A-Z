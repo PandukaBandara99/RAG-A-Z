{
 "cells": [
  {
   "cell_type": "markdown",
   "metadata": {},
   "source": [
    "# **Implementing simple Chatbot Using LangGraph**"
   ]
  },
  {
   "cell_type": "code",
   "execution_count": null,
   "metadata": {},
   "outputs": [],
   "source": [
    "# Import TypedDict for defining structured types (dictionaries with fixed key-value types)\n",
    "# This helps to define state or configuration objects with strict typing.\n",
    "from typing_extensions import TypedDict\n",
    "\n",
    "# Import the StateGraph, START, and END from LangGraph.\n",
    "# - StateGraph: The main class used to create and manage graph-based workflows.\n",
    "# - START and END: Special nodes representing the entry and exit points of a workflow.\n",
    "from langgraph.graph import StateGraph, START, END\n",
    "\n",
    "## Reducers\n",
    "# Reducers are typically functions used in LangGraph (and similar frameworks)\n",
    "# to manage state updates between nodes, combining multiple pieces of state or data.\n",
    "\n",
    "# Importing Annotated for type hinting with metadata (like specifying constraints or descriptions)\n",
    "# Annotated allows adding extra context to type hints beyond just the type itself.\n",
    "from typing import Annotated\n",
    "\n",
    "# Importing add_messages from LangGraph's message utilities.\n",
    "# This helper function is used to merge or append message lists in conversational graph states.\n",
    "# It helps in handling multi-turn conversations by accumulating message history.\n",
    "from langgraph.graph.message import add_messages\n"
   ]
  },
  {
   "cell_type": "code",
   "execution_count": null,
   "metadata": {},
   "outputs": [],
   "source": [
    "# Define a custom type 'State' using TypedDict.\n",
    "# TypedDict allows you to create dictionary-like structures with type-checked keys.\n",
    "# Each key in this dictionary has a defined expected type.\n",
    "\n",
    "class State(TypedDict):\n",
    "    # 'messages' key will store a list of messages (e.g., conversation history or model interactions).\n",
    "    # The type hint `Annotated[list, add_messages]` means:\n",
    "    #   - The base type is a list (likely containing message objects or strings).\n",
    "    #   - The `add_messages` function is annotated as a reducer — it defines *how* to combine or update this list\n",
    "    #     when the state is updated (for example, appending new messages rather than overwriting them).\n",
    "    messages: Annotated[list, add_messages]\n"
   ]
  },
  {
   "cell_type": "code",
   "execution_count": null,
   "metadata": {},
   "outputs": [],
   "source": [
    "# Import the 'os' module to interact with the operating system.\n",
    "# It allows access to environment variables, file paths, and system configurations.\n",
    "import os\n",
    "\n",
    "# Import 'load_dotenv' from the 'dotenv' package.\n",
    "# This function loads environment variables from a '.env' file into the system's environment.\n",
    "# It's commonly used to keep API keys and sensitive credentials outside of the source code.\n",
    "from dotenv import load_dotenv\n",
    "\n",
    "# Load all environment variables defined in the '.env' file into the current runtime environment.\n",
    "# After calling this, you can access variables in the file using 'os.getenv(\"VAR_NAME\")'.\n",
    "load_dotenv()\n",
    "\n",
    "# Explicitly set the \"OPENAI_API_KEY\" environment variable.\n",
    "# It retrieves the key from the loaded environment (via .env file) and assigns it to the OS environment.\n",
    "# This ensures other libraries or frameworks can access the key globally.\n",
    "os.environ[\"OPENAI_API_KEY\"] = os.getenv(\"OPENAI_API_KEY\")\n",
    "\n",
    "# Similarly, set the \"GROQ_API_KEY\" environment variable.\n",
    "# This makes sure the Groq API key is also available globally through the environment.\n",
    "os.environ[\"GROQ_API_KEY\"] = os.getenv(\"GROQ_API_KEY\")"
   ]
  },
  {
   "cell_type": "code",
   "execution_count": null,
   "metadata": {},
   "outputs": [
    {
     "data": {
      "text/plain": [
       "AIMessage(content='Hello! How can I assist you today?', additional_kwargs={'refusal': None}, response_metadata={'token_usage': {'completion_tokens': 10, 'prompt_tokens': 8, 'total_tokens': 18, 'completion_tokens_details': {'accepted_prediction_tokens': 0, 'audio_tokens': 0, 'reasoning_tokens': 0, 'rejected_prediction_tokens': 0}, 'prompt_tokens_details': {'audio_tokens': 0, 'cached_tokens': 0}}, 'model_name': 'gpt-4o-2024-08-06', 'system_fingerprint': 'fp_f9f4fb6dbf', 'finish_reason': 'stop', 'logprobs': None}, id='run-902c91c5-ea3a-4466-a6c3-fea75daf2ca0-0', usage_metadata={'input_tokens': 8, 'output_tokens': 10, 'total_tokens': 18, 'input_token_details': {'audio': 0, 'cache_read': 0}, 'output_token_details': {'audio': 0, 'reasoning': 0}})"
      ]
     },
     "execution_count": 4,
     "metadata": {},
     "output_type": "execute_result"
    }
   ],
   "source": [
    "# Import the ChatOpenAI class from the 'langchain_openai' package.\n",
    "# This class provides a convenient interface to interact with OpenAI’s chat models (e.g., GPT-4, GPT-4o).\n",
    "# It handles API calls, message formatting, and response parsing automatically.\n",
    "from langchain_openai import ChatOpenAI\n",
    "\n",
    "# Create an instance of the ChatOpenAI class and assign it to the variable 'llm'.\n",
    "# - The 'model' parameter specifies which OpenAI model to use.\n",
    "# - Here, \"gpt-4o\" refers to the GPT-4 Omni model, which supports both text and vision inputs.\n",
    "# The 'llm' variable now represents a language model object ready to process chat-style prompts.\n",
    "llm = ChatOpenAI(model=\"gpt-4o\")\n",
    "\n",
    "# Invoke the language model with a simple text prompt.\n",
    "# The 'invoke()' method sends the input (\"Hello\") to the model and returns its response.\n",
    "# This is equivalent to having a one-turn conversation with the LLM.\n",
    "llm.invoke(\"Hello\")\n"
   ]
  },
  {
   "cell_type": "code",
   "execution_count": null,
   "metadata": {},
   "outputs": [
    {
     "data": {
      "text/plain": [
       "AIMessage(content=\"Hello Krish! That's great to hear that you enjoy playing cricket. Cricket is a fantastic sport that requires skill, strategy, and teamwork. Whether you play as a batsman, bowler, or fielder, each role offers unique challenges and excitement.\\n\\nIf you have any questions about cricket, tips on how to improve your game, or anything else cricket-related, feel free to ask!\", additional_kwargs={}, response_metadata={'token_usage': {'completion_tokens': 79, 'prompt_tokens': 39, 'total_tokens': 118, 'completion_time': 0.395, 'prompt_time': 0.004205269, 'queue_time': 0.225996294, 'total_time': 0.399205269}, 'model_name': 'qwen-2.5-32b', 'system_fingerprint': 'fp_35f92f8282', 'finish_reason': 'stop', 'logprobs': None}, id='run-9bbe32ce-bcac-4f94-97fb-7d0c1d61690c-0', usage_metadata={'input_tokens': 39, 'output_tokens': 79, 'total_tokens': 118})"
      ]
     },
     "execution_count": 5,
     "metadata": {},
     "output_type": "execute_result"
    }
   ],
   "source": [
    "from langchain_groq import ChatGroq\n",
    "\n",
    "llm_groq=ChatGroq(model=\"qwen-qwq-32b\")\n",
    "llm_groq.invoke(\"Hey I am Krish and i like to play cricket\")"
   ]
  },
  {
   "cell_type": "markdown",
   "metadata": {},
   "source": [
    "## **We Will start With Creating Nodes**"
   ]
  },
  {
   "cell_type": "code",
   "execution_count": null,
   "metadata": {},
   "outputs": [],
   "source": [
    "# Define a function named 'superbot' that takes one argument: 'state'.\n",
    "# The 'state' parameter follows the structure defined earlier by the 'State' TypedDict.\n",
    "# It is expected to contain a key 'messages' that holds a list of conversation messages.\n",
    "def superbot(state: State):\n",
    "    # The function returns a new dictionary with a single key 'messages'.\n",
    "    # Inside it, we invoke the Groq model ('llm_groq') using the current state's messages as input.\n",
    "    # - 'state[\"messages\"]' retrieves the conversation history or latest message(s).\n",
    "    # - 'llm_groq.invoke(...)' sends this data to the Groq model for generating a response.\n",
    "    # The response is wrapped in a list so that it matches the structure expected by LangGraph states.\n",
    "    return {\"messages\": [llm_groq.invoke(state['messages'])]}"
   ]
  },
  {
   "cell_type": "code",
   "execution_count": 9,
   "metadata": {},
   "outputs": [
    {
     "data": {
      "image/png": "[encoded data removed]",
      "text/plain": [
       "<IPython.core.display.Image object>"
      ]
     },
     "metadata": {},
     "output_type": "display_data"
    }
   ],
   "source": [
    "graph=StateGraph(State)\n",
    "\n",
    "## node\n",
    "graph.add_node(\"SuperBot\",superbot)\n",
    "## Edges\n",
    "\n",
    "graph.add_edge(START,\"SuperBot\")\n",
    "graph.add_edge(\"SuperBot\",END)\n",
    "\n",
    "\n",
    "graph_builder=graph.compile()\n",
    "\n",
    "\n",
    "## Display\n",
    "from IPython.display import Image, display\n",
    "display(Image(graph_builder.get_graph().draw_mermaid_png()))"
   ]
  },
  {
   "cell_type": "code",
   "execution_count": null,
   "metadata": {},
   "outputs": [
    {
     "data": {
      "text/plain": [
       "{'messages': [HumanMessage(content='Hi,My name is Krish And I like cricket', additional_kwargs={}, response_metadata={}, id='a28ca34c-eada-478e-8ed8-ef3759447093'),\n",
       "  AIMessage(content=\"Hello Krish! Nice to meet you. Cricket is a fantastic sport, isn't it? Do you enjoy playing cricket or are you more into watching the matches? Who is your favorite cricket player? Feel free to share more about what you like about the sport!\", additional_kwargs={}, response_metadata={'token_usage': {'completion_tokens': 53, 'prompt_tokens': 39, 'total_tokens': 92, 'completion_time': 0.265, 'prompt_time': 0.004223914, 'queue_time': 0.236344133, 'total_time': 0.269223914}, 'model_name': 'qwen-2.5-32b', 'system_fingerprint': 'fp_35f92f8282', 'finish_reason': 'stop', 'logprobs': None}, id='run-a20669ad-74bd-440e-96f1-e368a5a9cdce-0', usage_metadata={'input_tokens': 39, 'output_tokens': 53, 'total_tokens': 92})]}"
      ]
     },
     "execution_count": 10,
     "metadata": {},
     "output_type": "execute_result"
    }
   ],
   "source": [
    "## Invocation\n",
    "graph_builder.invoke({'messages':\"Hi,My name is Krish And I like cricket\"})"
   ]
  },
  {
   "cell_type": "markdown",
   "metadata": {},
   "source": [
    "#### Streaming The responses"
   ]
  },
  {
   "cell_type": "code",
   "execution_count": 18,
   "metadata": {},
   "outputs": [
    {
     "name": "stdout",
     "output_type": "stream",
     "text": [
      "{'SuperBot': {'messages': [AIMessage(content=\"Hello Krish! It's nice to meet you. How can I assist you today? Is there anything specific you would like to talk about or any questions you have?\", additional_kwargs={}, response_metadata={'token_usage': {'completion_tokens': 34, 'prompt_tokens': 35, 'total_tokens': 69, 'completion_time': 0.17, 'prompt_time': 0.003981866, 'queue_time': 0.226247007, 'total_time': 0.173981866}, 'model_name': 'qwen-2.5-32b', 'system_fingerprint': 'fp_35f92f8282', 'finish_reason': 'stop', 'logprobs': None}, id='run-cb7964d1-a9df-477e-b016-539ee446c375-0', usage_metadata={'input_tokens': 35, 'output_tokens': 34, 'total_tokens': 69})]}}\n"
     ]
    }
   ],
   "source": [
    "for event in graph_builder.stream({\"messages\":\"Hello My name is KRish\"}):\n",
    "    print(event)"
   ]
  },
  {
   "cell_type": "code",
   "execution_count": null,
   "metadata": {},
   "outputs": [],
   "source": []
  },
  {
   "cell_type": "markdown",
   "metadata": {},
   "source": [
    "## **Notes**"
   ]
  },
  {
   "cell_type": "markdown",
   "metadata": {},
   "source": [
    "**Understanding `TypedDict` in LangGraph**\n",
    "\n",
    "In LangGraph, **`TypedDict`** is used to **define the structure of the state** — the shared memory or message context that passes between nodes.\n",
    "It gives **type safety**, **clarity**, and **predictable state transitions** in complex workflows.\n",
    "\n",
    "**Concept\n",
    "**\n",
    "A **LangGraph State** is like a message or memory container shared across the graph.\n",
    "Every node reads from it, processes information, and updates it for downstream nodes.\n",
    "\n",
    "```python\n",
    "from typing import TypedDict, List\n",
    "from langgraph.graph import StateGraph\n",
    "\n",
    "# Define the state of the chatbot conversation\n",
    "class ChatState(TypedDict):\n",
    "    user_messages: List[str]\n",
    "    ai_responses: List[str]\n",
    "    context: str\n",
    "```\n",
    "\n",
    "This `ChatState` defines **what data the chatbot will track**:\n",
    "\n",
    "* `user_messages`: all inputs from the user\n",
    "* `ai_responses`: model-generated messages\n",
    "* `context`: short-term memory or session context\n",
    "\n",
    "This acts like a **schema** for the chatbot’s memory.\n",
    "\n",
    "---\n",
    "**How `TypedDict` Helps in Chatbots**\n",
    "\n",
    "When building chatbots using **LangGraph**, each node can:\n",
    "\n",
    "* **Access** parts of the state (like the last message),\n",
    "* **Append** new messages,\n",
    "* **Return** updated parts of the state.\n",
    "\n",
    "Example:\n",
    "\n",
    "```python\n",
    "def user_input_node(state: ChatState):\n",
    "    user_text = state[\"user_messages\"][-1]\n",
    "    return {\"context\": f\"User asked: {user_text}\"}\n",
    "```\n",
    "\n",
    "```python\n",
    "def llm_response_node(state: ChatState):\n",
    "    # simulate model inference\n",
    "    ai_reply = f\"AI response to: {state['context']}\"\n",
    "    return {\"ai_responses\": state[\"ai_responses\"] + [ai_reply]}\n",
    "```\n",
    "\n",
    "---\n",
    "\n",
    "**What Are Reducers in LangGraph?**\n",
    "\n",
    "Reducers are **functions that merge or combine** outputs from multiple nodes into a **single consistent state**.\n",
    "\n",
    "Imagine multiple nodes (LLMs, tools, retrievers, or filters) updating the same key in the state — LangGraph uses **reducers** to decide how these updates should merge.\n",
    "\n",
    "---\n",
    "\n",
    "**Example Scenario**\n",
    "\n",
    "Suppose we have two nodes:\n",
    "\n",
    "* `SentimentAnalyzer` adds emotional tone.\n",
    "* `KnowledgeRetriever` adds factual context.\n",
    "\n",
    "Both might update `context` in the chatbot state.\n",
    "\n",
    "By default, LangGraph merges these outputs using reducers you define.\n",
    "\n",
    "---\n",
    "\n",
    "**Reducer Example**\n",
    "\n",
    "```python\n",
    "from langgraph.graph import StateGraph\n",
    "\n",
    "def merge_contexts(old: str, new: str) -> str:\n",
    "    \"\"\"Reducer merges multiple context updates\"\"\"\n",
    "    return old + \" | \" + new\n",
    "\n",
    "graph = StateGraph(ChatState)\n",
    "graph.add_node(\"Sentiment\", lambda s: {\"context\": \"Sentiment: positive\"})\n",
    "graph.add_node(\"Retriever\", lambda s: {\"context\": \"Context: AI concepts\"})\n",
    "\n",
    "graph.add_edge(\"Sentiment\", \"Retriever\")\n",
    "graph.set_entry_point(\"Sentiment\")\n",
    "\n",
    "# Register reducer for merging context fields\n",
    "graph.add_reducer(\"context\", merge_contexts)\n",
    "```\n",
    "\n",
    "Now, when both nodes update `context`, LangGraph automatically merges them using `merge_contexts()`:\n",
    "\n",
    "```\n",
    "\"Sentiment: positive | Context: AI concepts\"\n",
    "```\n",
    "\n",
    "Without reducers, later nodes might **overwrite** earlier ones — reducers ensure **non-destructive updates**.\n",
    "\n",
    "---\n",
    "\n",
    "**Reducers in Chatbot Context**\n",
    "\n",
    "In chatbots, reducers are useful when multiple agents or reasoning nodes generate updates:\n",
    "\n",
    "* **Multiple LLM agents** proposing responses\n",
    "* **Context expansion nodes** adding retrieved info\n",
    "* **Memory nodes** maintaining conversation history\n",
    "\n",
    "Example:\n",
    "\n",
    "```python\n",
    "def merge_messages(old, new):\n",
    "    return old + new  # append new messages\n",
    "\n",
    "graph.add_reducer(\"ai_responses\", merge_messages)\n",
    "graph.add_reducer(\"user_messages\", merge_messages)\n",
    "```\n",
    "\n",
    "Now, your chatbot can process **parallel updates** without losing earlier messages.\n",
    "\n",
    "---\n",
    "\n",
    "**Putting It All Together**\n",
    "\n",
    "Here’s a small working LangGraph chatbot:\n",
    "\n",
    "```python\n",
    "from typing import TypedDict, List\n",
    "from langgraph.graph import StateGraph, END\n",
    "\n",
    "# Define chatbot state\n",
    "class ChatState(TypedDict):\n",
    "    user_messages: List[str]\n",
    "    ai_responses: List[str]\n",
    "    context: str\n",
    "\n",
    "# Define nodes\n",
    "def user_node(state: ChatState):\n",
    "    user_text = state[\"user_messages\"][-1]\n",
    "    return {\"context\": f\"User said: {user_text}\"}\n",
    "\n",
    "def llm_node(state: ChatState):\n",
    "    response = f\"Got it! You said '{state['context']}'.\"\n",
    "    return {\"ai_responses\": state[\"ai_responses\"] + [response]}\n",
    "\n",
    "# Build graph\n",
    "graph = StateGraph(ChatState)\n",
    "graph.add_node(\"UserInput\", user_node)\n",
    "graph.add_node(\"AIResponse\", llm_node)\n",
    "graph.add_edge(\"UserInput\", \"AIResponse\")\n",
    "graph.add_edge(\"AIResponse\", END)\n",
    "graph.set_entry_point(\"UserInput\")\n",
    "\n",
    "# Add reducers\n",
    "graph.add_reducer(\"ai_responses\", lambda old, new: old + new)\n",
    "graph.add_reducer(\"user_messages\", lambda old, new: old + new)\n",
    "\n",
    "# Compile and run\n",
    "chat = graph.compile()\n",
    "result = chat.invoke({\"user_messages\": [\"Hello!\"], \"ai_responses\": [], \"context\": \"\"})\n",
    "\n",
    "print(result)\n",
    "```\n",
    "\n",
    "**Output:**\n",
    "\n",
    "```python\n",
    "{\n",
    "  'user_messages': ['Hello!'],\n",
    "  'ai_responses': [\"Got it! You said 'User said: Hello!'. \"],\n",
    "  'context': 'User said: Hello!'\n",
    "}\n",
    "```\n",
    "\n",
    "---\n",
    "\n",
    "**Summary**\n",
    "\n",
    "| Concept           | Purpose                             | Example Use in Chatbot                            |\n",
    "| ----------------- | ----------------------------------- | ------------------------------------------------- |\n",
    "| **`TypedDict`**   | Defines the schema for shared state | Tracks messages, memory, context                  |\n",
    "| **Reducers**      | Merge updates from multiple nodes   | Combine multi-agent responses, memory, or context |\n",
    "| **StateGraph**    | Orchestrates nodes and flows        | Controls chatbot reasoning steps                  |\n",
    "| **State Passing** | Maintains continuity                | Enables memory and contextual responses           |\n",
    "\n",
    "---\n",
    "\n",
    " **In essence**\n",
    "\n",
    "* `TypedDict` gives **structure** and **type clarity** to your chatbot’s memory.\n",
    "* **Reducers** enable **intelligent merging** of updates from multiple reasoning or generation nodes.\n",
    "* Combined, they make **LangGraph chatbots modular, context-aware, and scalable** — perfect for complex, multi-step conversational agents."
   ]
  }
 ],
 "metadata": {
  "kernelspec": {
   "display_name": "base",
   "language": "python",
   "name": "python3"
  },
  "language_info": {
   "codemirror_mode": {
    "name": "ipython",
    "version": 3
   },
   "file_extension": ".py",
   "mimetype": "text/x-python",
   "name": "python",
   "nbconvert_exporter": "python",
   "pygments_lexer": "ipython3",
   "version": "3.13.5"
  }
 },
 "nbformat": 4,
 "nbformat_minor": 2
}
