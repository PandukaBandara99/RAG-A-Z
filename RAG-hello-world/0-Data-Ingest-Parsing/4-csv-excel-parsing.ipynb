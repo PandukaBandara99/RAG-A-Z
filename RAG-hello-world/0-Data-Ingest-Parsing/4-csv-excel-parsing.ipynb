{
 "cells": [
  {
   "cell_type": "markdown",
   "id": "1085508d",
   "metadata": {},
   "source": [
    "# CSV And Excel files- Structured Data"
   ]
  },
  {
   "cell_type": "code",
   "execution_count": 1,
   "id": "716573cf",
   "metadata": {},
   "outputs": [],
   "source": [
    "import pandas as pd\n",
    "import os"
   ]
  },
  {
   "cell_type": "markdown",
   "id": "3486b50d",
   "metadata": {},
   "source": [
    "## Create Sample Data"
   ]
  },
  {
   "cell_type": "code",
   "execution_count": 2,
   "id": "0e365c19",
   "metadata": {},
   "outputs": [],
   "source": [
    "os.makedirs(\"data/structured_files\", exist_ok=True)"
   ]
  },
  {
   "cell_type": "code",
   "execution_count": 3,
   "id": "834384b4",
   "metadata": {},
   "outputs": [],
   "source": [
    "# Create sample data\n",
    "data = {\n",
    "    'Product': ['Laptop', 'Mouse', 'Keyboard', 'Monitor', 'Webcam'],\n",
    "    'Category': ['Electronics', 'Accessories', 'Accessories', 'Electronics', 'Electronics'],\n",
    "    'Price': [999.99, 29.99, 79.99, 299.99, 89.99],\n",
    "    'Stock': [50, 200, 150, 75, 100],\n",
    "    'Description': [\n",
    "        'High-performance laptop with 16GB RAM and 512GB SSD',\n",
    "        'Wireless optical mouse with ergonomic design',\n",
    "        'Mechanical keyboard with RGB backlighting',\n",
    "        '27-inch 4K monitor with HDR support',\n",
    "        '1080p webcam with noise cancellation'\n",
    "    ]\n",
    "}\n",
    "\n",
    "# Save as CSV\n",
    "df = pd.DataFrame(data)\n",
    "df.to_csv('data/structured_files/products.csv', index=False)"
   ]
  },
  {
   "cell_type": "code",
   "execution_count": 4,
   "id": "8561ccc5",
   "metadata": {},
   "outputs": [],
   "source": [
    "# Save as Excel with multiple sheets\n",
    "with pd.ExcelWriter('data/structured_files/inventory.xlsx') as writer:\n",
    "    df.to_excel(writer, sheet_name='Products', index=False)\n",
    "    \n",
    "    # Add another sheet\n",
    "    summary_data = {\n",
    "        'Category': ['Electronics', 'Accessories'],\n",
    "        'Total_Items': [3, 2],\n",
    "        'Total_Value': [1389.97, 109.98]\n",
    "    }\n",
    "    pd.DataFrame(summary_data).to_excel(writer, sheet_name='Summary', index=False)"
   ]
  },
  {
   "cell_type": "markdown",
   "id": "fb1b9cb7",
   "metadata": {},
   "source": [
    "## CSV Processing"
   ]
  },
  {
   "cell_type": "code",
   "execution_count": 5,
   "id": "dc5d39c0",
   "metadata": {},
   "outputs": [],
   "source": [
    "from langchain_community.document_loaders import CSVLoader\n",
    "from langchain_community.document_loaders import UnstructuredCSVLoader"
   ]
  },
  {
   "cell_type": "markdown",
   "id": "bff36712",
   "metadata": {},
   "source": [
    "### METHOD 1: CSVLoader - Each row becomes a document"
   ]
  },
  {
   "cell_type": "code",
   "execution_count": 6,
   "id": "aba7566a",
   "metadata": {},
   "outputs": [
    {
     "name": "stdout",
     "output_type": "stream",
     "text": [
      "1️⃣ CSVLoader - Row-based Documents\n",
      "[Document(metadata={'source': 'data/structured_files/products.csv', 'row': 0}, page_content='Product: Laptop\\nCategory: Electronics\\nPrice: 999.99\\nStock: 50\\nDescription: High-performance laptop with 16GB RAM and 512GB SSD'), Document(metadata={'source': 'data/structured_files/products.csv', 'row': 1}, page_content='Product: Mouse\\nCategory: Accessories\\nPrice: 29.99\\nStock: 200\\nDescription: Wireless optical mouse with ergonomic design'), Document(metadata={'source': 'data/structured_files/products.csv', 'row': 2}, page_content='Product: Keyboard\\nCategory: Accessories\\nPrice: 79.99\\nStock: 150\\nDescription: Mechanical keyboard with RGB backlighting'), Document(metadata={'source': 'data/structured_files/products.csv', 'row': 3}, page_content='Product: Monitor\\nCategory: Electronics\\nPrice: 299.99\\nStock: 75\\nDescription: 27-inch 4K monitor with HDR support'), Document(metadata={'source': 'data/structured_files/products.csv', 'row': 4}, page_content='Product: Webcam\\nCategory: Electronics\\nPrice: 89.99\\nStock: 100\\nDescription: 1080p webcam with noise cancellation')]\n",
      "Loaded 5 documents (one per row)\n",
      "\n",
      "First document:\n",
      "Content: Product: Laptop\n",
      "Category: Electronics\n",
      "Price: 999.99\n",
      "Stock: 50\n",
      "Description: High-performance laptop with 16GB RAM and 512GB SSD\n",
      "Metadata: {'source': 'data/structured_files/products.csv', 'row': 0}\n"
     ]
    }
   ],
   "source": [
    "\n",
    "# -------------------------------------------------\n",
    "# This method uses LangChain’s `CSVLoader` to load structured CSV data.\n",
    "# Each row in the CSV file becomes a separate `Document` object.\n",
    "\n",
    "print(\"1️⃣ CSVLoader - Row-based Documents\")\n",
    "\n",
    "# Create an instance of CSVLoader\n",
    "csv_loader = CSVLoader(\n",
    "    # Path to your CSV file\n",
    "    file_path='data/structured_files/products.csv',  \n",
    "    # Character encoding for reading text\n",
    "    encoding='utf-8',     \n",
    "    # Optional arguments passed to Python's CSV reader                          \n",
    "    csv_args={        \n",
    "        # Field separator (e.g., ',' or ';')                              \n",
    "        'delimiter': ',',               \n",
    "        # Character used for quoting text fields            \n",
    "        'quotechar': '\"',                           \n",
    "    }\n",
    ")\n",
    "\n",
    "# Load the data from the CSV file.\n",
    "# Each row is converted into a LangChain `Document` object.\n",
    "# - page_content → combined text representation of that row\n",
    "# - metadata → column names and row index (or file info)\n",
    "csv_docs = csv_loader.load()\n",
    "\n",
    "# Print all loaded documents (for inspection)\n",
    "print(csv_docs)\n",
    "\n",
    "# Show how many rows were loaded\n",
    "print(f\"Loaded {len(csv_docs)} documents (one per row)\")\n",
    "\n",
    "# Display the content of the first document for a quick preview\n",
    "print(\"\\nFirst document:\")\n",
    "# Shows the text content from the first row\n",
    "print(f\"Content: {csv_docs[0].page_content}\") \n",
    "# Shows metadata such as column headers and file path \n",
    "print(f\"Metadata: {csv_docs[0].metadata}\")     \n"
   ]
  },
  {
   "cell_type": "markdown",
   "id": "80f0729c",
   "metadata": {},
   "source": [
    "### Method 2: Custom CSV Processing for Better Control"
   ]
  },
  {
   "cell_type": "code",
   "execution_count": 7,
   "id": "2180b064",
   "metadata": {},
   "outputs": [
    {
     "name": "stdout",
     "output_type": "stream",
     "text": [
      "\n",
      "2️⃣ Custom CSV Processing\n"
     ]
    }
   ],
   "source": [
    "from typing import List\n",
    "from langchain_core.documents import Document\n",
    "import pandas as pd   # Required for DataFrame operations\n",
    "\n",
    "# ------------------------------------------------------\n",
    "# Method 2: Custom CSV Processing for Better Control\n",
    "# ------------------------------------------------------\n",
    "print(\"\\n2️⃣ Custom CSV Processing\")\n",
    "\n",
    "def process_csv_intelligently(filepath: str) -> List[Document]:\n",
    "    \"\"\"\n",
    "    Reads a CSV file and converts it into a list of LangChain Document objects,\n",
    "    where each document corresponds to a row, but with structured and readable formatting.\n",
    "    \"\"\"\n",
    "\n",
    "    # Step 1: Load the CSV file into a pandas DataFrame\n",
    "    # Pandas provides rich data handling capabilities, allowing column-level access and transformations.\n",
    "    df = pd.read_csv(filepath)\n",
    "\n",
    "    # Step 2: Initialize an empty list to hold Document objects\n",
    "    documents = []\n",
    "    \n",
    "    # Step 3: Iterate over each row in the DataFrame using iterrows()\n",
    "    # This allows access to both the index (row number) and data (as a Series).\n",
    "    for idx, row in df.iterrows():\n",
    "\n",
    "        # Step 4: Construct a readable, structured text block for the LLM.\n",
    "        # This ensures the model receives clear context and semantically separated attributes.\n",
    "        content = f\"\"\"Product Information:\n",
    "        Name: {row['Product']}\n",
    "        Category: {row['Category']}\n",
    "        Price: ${row['Price']}\n",
    "        Stock: {row['Stock']} units\n",
    "        Description: {row['Description']}\"\"\"\n",
    "\n",
    "        # Step 5: Create a LangChain Document object\n",
    "        # The `page_content` holds the readable text,\n",
    "        # while the `metadata` holds structured data for search, filtering, or indexing.\n",
    "        doc = Document(\n",
    "            page_content=content,\n",
    "            metadata={\n",
    "                # The file path for traceability\n",
    "                'source': filepath,     \n",
    "                # The row index for reference     \n",
    "                'row_index': idx,            \n",
    "                'product_name': row['Product'],\n",
    "                'category': row['Category'],\n",
    "                'price': row['Price'],\n",
    "                # Custom tag to identify this document type\n",
    "                'data_type': 'product_info'  \n",
    "            }\n",
    "        )\n",
    "\n",
    "        # Step 6: Append the new Document to the list\n",
    "        documents.append(doc)\n",
    "\n",
    "    # Step 7: Return the list of processed Document objects\n",
    "    return documents\n"
   ]
  },
  {
   "cell_type": "code",
   "execution_count": 8,
   "id": "3958d0b8",
   "metadata": {},
   "outputs": [
    {
     "data": {
      "text/plain": [
       "[Document(metadata={'source': 'data/structured_files/products.csv', 'row_index': 0, 'product_name': 'Laptop', 'category': 'Electronics', 'price': 999.99, 'data_type': 'product_info'}, page_content='Product Information:\\n        Name: Laptop\\n        Category: Electronics\\n        Price: $999.99\\n        Stock: 50 units\\n        Description: High-performance laptop with 16GB RAM and 512GB SSD'),\n",
       " Document(metadata={'source': 'data/structured_files/products.csv', 'row_index': 1, 'product_name': 'Mouse', 'category': 'Accessories', 'price': 29.99, 'data_type': 'product_info'}, page_content='Product Information:\\n        Name: Mouse\\n        Category: Accessories\\n        Price: $29.99\\n        Stock: 200 units\\n        Description: Wireless optical mouse with ergonomic design'),\n",
       " Document(metadata={'source': 'data/structured_files/products.csv', 'row_index': 2, 'product_name': 'Keyboard', 'category': 'Accessories', 'price': 79.99, 'data_type': 'product_info'}, page_content='Product Information:\\n        Name: Keyboard\\n        Category: Accessories\\n        Price: $79.99\\n        Stock: 150 units\\n        Description: Mechanical keyboard with RGB backlighting'),\n",
       " Document(metadata={'source': 'data/structured_files/products.csv', 'row_index': 3, 'product_name': 'Monitor', 'category': 'Electronics', 'price': 299.99, 'data_type': 'product_info'}, page_content='Product Information:\\n        Name: Monitor\\n        Category: Electronics\\n        Price: $299.99\\n        Stock: 75 units\\n        Description: 27-inch 4K monitor with HDR support'),\n",
       " Document(metadata={'source': 'data/structured_files/products.csv', 'row_index': 4, 'product_name': 'Webcam', 'category': 'Electronics', 'price': 89.99, 'data_type': 'product_info'}, page_content='Product Information:\\n        Name: Webcam\\n        Category: Electronics\\n        Price: $89.99\\n        Stock: 100 units\\n        Description: 1080p webcam with noise cancellation')]"
      ]
     },
     "execution_count": 8,
     "metadata": {},
     "output_type": "execute_result"
    }
   ],
   "source": [
    "process_csv_intelligently('data/structured_files/products.csv')"
   ]
  },
  {
   "cell_type": "markdown",
   "id": "8599aac1",
   "metadata": {},
   "source": [
    "### Comparison"
   ]
  },
  {
   "cell_type": "markdown",
   "id": "afab090d",
   "metadata": {},
   "source": [
    "| Feature / Criteria                   | **Method 1 — CSVLoader**                      | **Method 2 — Custom CSV Processing**                  |\n",
    "| ------------------------------------ | ------------------------------------------------ | -------------------------------------------------------- |\n",
    "| **Library Used**                     | `langchain_community.document_loaders.CSVLoader` | `pandas` + manual `Document` creation                    |\n",
    "| **Setup Complexity**                 | Very simple (few lines)                        | Moderate (custom function)                            |\n",
    "| **Dependencies**                     | Minimal (no pandas needed)                       | Requires `pandas`                                        |\n",
    "| **Performance (Speed)**              | Fast (streamed parsing)                        | Slightly slower (DataFrame overhead)                  |\n",
    "| **Structure Handling**               | Flat text (all columns concatenated)           | Structured, formatted, and readable                    |\n",
    "| **Metadata Richness**                | Basic (source file, row index)                | Rich (custom metadata: product, category, etc.)       |\n",
    "| **Custom Formatting**                | Not supported                                  | Full control (labels, multiline text, etc.)            |\n",
    "| **Readability of Output**            | Raw and compressed                             | Human-friendly and LLM-optimized                       |\n",
    "| **Scalability (Large Files)**        | Efficient for big CSVs                         | Uses more memory (due to pandas)                      |\n",
    "| **Error Handling**                   | Basic                                            | Can add validation & preprocessing                       |\n",
    "| **Use in RAG Pipelines**             | Works but limited context                     | Ideal — clear semantic structure                       |\n",
    "| **Filtering / Querying by Metadata** | Minimal                                        | Easy — rich metadata fields                            |\n",
    "| **Ideal For**                        | Quick ingestion of simple CSVs                   | Intelligent, structured data loading for retrieval tasks |\n"
   ]
  },
  {
   "cell_type": "code",
   "execution_count": 9,
   "id": "93c12e78",
   "metadata": {},
   "outputs": [
    {
     "name": "stdout",
     "output_type": "stream",
     "text": [
      "\n",
      "📊 CSV Processing Strategies:\n",
      "\n",
      "1. Row-based (CSVLoader):\n",
      "  ✅ Simple one-row-one-document\n",
      "  ✅ Good for record lookups\n",
      "  ❌ Loses table context\n",
      "\n",
      "2. Intelligent Processing:\n",
      "  ✅ Preserves relationships\n",
      "  ✅ Creates summaries\n",
      "  ✅ Rich metadata\n",
      "  ✅ Better for Q&A\n"
     ]
    }
   ],
   "source": [
    "# 📊 CSV Processing Strategies\n",
    "print(\"\\n📊 CSV Processing Strategies:\")\n",
    "print(\"\\n1. Row-based (CSVLoader):\")\n",
    "print(\"  ✅ Simple one-row-one-document\")\n",
    "print(\"  ✅ Good for record lookups\")\n",
    "print(\"  ❌ Loses table context\")\n",
    "\n",
    "print(\"\\n2. Intelligent Processing:\")\n",
    "print(\"  ✅ Preserves relationships\")\n",
    "print(\"  ✅ Creates summaries\")\n",
    "print(\"  ✅ Rich metadata\")\n",
    "print(\"  ✅ Better for Q&A\")"
   ]
  },
  {
   "cell_type": "markdown",
   "id": "4c09b236",
   "metadata": {},
   "source": [
    "## Excel Processing"
   ]
  },
  {
   "cell_type": "markdown",
   "id": "a43e62ba",
   "metadata": {},
   "source": [
    "###  METHOD 1: Using pandas for full control"
   ]
  },
  {
   "cell_type": "code",
   "execution_count": 10,
   "id": "a514e486",
   "metadata": {},
   "outputs": [
    {
     "name": "stdout",
     "output_type": "stream",
     "text": [
      "Pandas-based Excel Processing\n"
     ]
    }
   ],
   "source": [
    "# METHOD 1: Using pandas for full control\n",
    "print(\"Pandas-based Excel Processing\")\n",
    "\n",
    "from typing import List\n",
    "from langchain_core.documents import Document\n",
    "import pandas as pd\n",
    "\n",
    "def process_excel_with_pandas(filepath: str) -> List[Document]:\n",
    "    \"\"\"Process Excel file intelligently — one Document per sheet with metadata.\"\"\"\n",
    "    documents = []\n",
    "    \n",
    "    # Step 1: Load the Excel file\n",
    "    # Using `pd.ExcelFile()` gives you access to all sheet names efficiently.\n",
    "    excel_file = pd.ExcelFile(filepath)\n",
    "    \n",
    "    # Step 2: Iterate through each sheet in the Excel workbook\n",
    "    for sheet_name in excel_file.sheet_names:\n",
    "        # Read the current sheet into a DataFrame\n",
    "        df = pd.read_excel(filepath, sheet_name=sheet_name)\n",
    "        \n",
    "        # Step 3: Build readable content for each sheet\n",
    "        # This combines sheet name, structure info, and the data table itself.\n",
    "        sheet_content = f\"Sheet: {sheet_name}\\n\"\n",
    "        sheet_content += f\"Columns: {', '.join(df.columns)}\\n\"\n",
    "        sheet_content += f\"Rows: {len(df)}\\n\\n\"\n",
    "        sheet_content += df.to_string(index=False)  # Convert DataFrame to readable text\n",
    "        \n",
    "        # Step 4: Create a Document for the sheet\n",
    "        doc = Document(\n",
    "            page_content=sheet_content,\n",
    "            metadata={\n",
    "                'source': filepath,          # File path for traceability\n",
    "                'sheet_name': sheet_name,    # The Excel sheet name\n",
    "                'num_rows': len(df),         # Row count\n",
    "                'num_columns': len(df.columns), # Column count\n",
    "                'data_type': 'excel_sheet'   # Custom metadata tag\n",
    "            }\n",
    "        )\n",
    "        \n",
    "        # Step 5: Add the Document to the list\n",
    "        documents.append(doc)\n",
    "    \n",
    "    # Step 6: Return all documents (one per sheet)\n",
    "    return documents\n"
   ]
  },
  {
   "cell_type": "code",
   "execution_count": 11,
   "id": "b426233e",
   "metadata": {},
   "outputs": [
    {
     "name": "stdout",
     "output_type": "stream",
     "text": [
      "Processed 2 sheets\n"
     ]
    }
   ],
   "source": [
    "excel_docs = process_excel_with_pandas('data/structured_files/inventory.xlsx')\n",
    "print(f\"Processed {len(excel_docs)} sheets\")"
   ]
  },
  {
   "cell_type": "code",
   "execution_count": 12,
   "id": "6aaa31a4",
   "metadata": {},
   "outputs": [
    {
     "data": {
      "text/plain": [
       "[Document(metadata={'source': 'data/structured_files/inventory.xlsx', 'sheet_name': 'Products', 'num_rows': 5, 'num_columns': 5, 'data_type': 'excel_sheet'}, page_content='Sheet: Products\\nColumns: Product, Category, Price, Stock, Description\\nRows: 5\\n\\n Product    Category  Price  Stock                                         Description\\n  Laptop Electronics 999.99     50 High-performance laptop with 16GB RAM and 512GB SSD\\n   Mouse Accessories  29.99    200        Wireless optical mouse with ergonomic design\\nKeyboard Accessories  79.99    150           Mechanical keyboard with RGB backlighting\\n Monitor Electronics 299.99     75                 27-inch 4K monitor with HDR support\\n  Webcam Electronics  89.99    100                1080p webcam with noise cancellation'),\n",
       " Document(metadata={'source': 'data/structured_files/inventory.xlsx', 'sheet_name': 'Summary', 'num_rows': 2, 'num_columns': 3, 'data_type': 'excel_sheet'}, page_content='Sheet: Summary\\nColumns: Category, Total_Items, Total_Value\\nRows: 2\\n\\n   Category  Total_Items  Total_Value\\nElectronics            3      1389.97\\nAccessories            2       109.98')]"
      ]
     },
     "execution_count": 12,
     "metadata": {},
     "output_type": "execute_result"
    }
   ],
   "source": [
    "excel_docs"
   ]
  },
  {
   "cell_type": "markdown",
   "id": "041504e8",
   "metadata": {},
   "source": [
    "### Method 2 : UnstructuredExcelLoader"
   ]
  },
  {
   "cell_type": "code",
   "execution_count": 29,
   "id": "24103792",
   "metadata": {},
   "outputs": [
    {
     "name": "stdout",
     "output_type": "stream",
     "text": [
      "\n",
      "UnstructuredExcelLoader\n",
      "  Handles complex Excel features\n",
      "  Preserves formatting info\n",
      "  Requires unstructured library\n"
     ]
    }
   ],
   "source": [
    "from langchain_community.document_loaders import UnstructuredExcelLoader\n",
    "\n",
    "print(\"\\nUnstructuredExcelLoader\")\n",
    "\n",
    "try:\n",
    "    excel_loader = UnstructuredExcelLoader(\n",
    "        'data/structured_files/inventory.xlsx',\n",
    "        mode=\"elements\"  # \"elements\" gives fine-grained structure; \"single\" merges into one doc\n",
    "    )\n",
    "    unstructured_docs = excel_loader.load()\n",
    "    print(\"  Handles complex Excel features\")\n",
    "    print(\"  Preserves formatting info\")\n",
    "    print(\"  Requires unstructured library\")\n",
    "except Exception as e:\n",
    "    print(\"  Requires unstructured library with Excel support\")\n"
   ]
  },
  {
   "cell_type": "code",
   "execution_count": 30,
   "id": "7597d670",
   "metadata": {},
   "outputs": [
    {
     "data": {
      "text/plain": [
       "[Document(metadata={'source': 'data/structured_files/inventory.xlsx', 'file_directory': 'data/structured_files', 'filename': 'inventory.xlsx', 'last_modified': '2025-10-19T11:27:55', 'page_name': 'Products', 'page_number': 1, 'text_as_html': '<table><tr><td>Product</td><td>Category</td><td>Price</td><td>Stock</td><td>Description</td></tr><tr><td>Laptop</td><td>Electronics</td><td>999.99</td><td>50</td><td>High-performance laptop with 16GB RAM and 512GB SSD</td></tr><tr><td>Mouse</td><td>Accessories</td><td>29.99</td><td>200</td><td>Wireless optical mouse with ergonomic design</td></tr><tr><td>Keyboard</td><td>Accessories</td><td>79.99</td><td>150</td><td>Mechanical keyboard with RGB backlighting</td></tr><tr><td>Monitor</td><td>Electronics</td><td>299.99</td><td>75</td><td>27-inch 4K monitor with HDR support</td></tr><tr><td>Webcam</td><td>Electronics</td><td>89.99</td><td>100</td><td>1080p webcam with noise cancellation</td></tr></table>', 'languages': ['eng'], 'filetype': 'application/vnd.openxmlformats-officedocument.spreadsheetml.sheet', 'category': 'Table', 'element_id': '6c3514d8bca67e1cbfa020192b595264'}, page_content='Product Category Price Stock Description Laptop Electronics 999.99 50 High-performance laptop with 16GB RAM and 512GB SSD Mouse Accessories 29.99 200 Wireless optical mouse with ergonomic design Keyboard Accessories 79.99 150 Mechanical keyboard with RGB backlighting Monitor Electronics 299.99 75 27-inch 4K monitor with HDR support Webcam Electronics 89.99 100 1080p webcam with noise cancellation'),\n",
       " Document(metadata={'source': 'data/structured_files/inventory.xlsx', 'file_directory': 'data/structured_files', 'filename': 'inventory.xlsx', 'last_modified': '2025-10-19T11:27:55', 'page_name': 'Summary', 'page_number': 2, 'text_as_html': '<table><tr><td>Category</td><td>Total_Items</td><td>Total_Value</td></tr><tr><td>Electronics</td><td>3</td><td>1389.97</td></tr><tr><td>Accessories</td><td>2</td><td>109.98</td></tr></table>', 'languages': ['eng'], 'filetype': 'application/vnd.openxmlformats-officedocument.spreadsheetml.sheet', 'category': 'Table', 'element_id': 'dcf57c06f0490353601c69aaefb62f83'}, page_content='Category Total_Items Total_Value Electronics 3 1389.97 Accessories 2 109.98')]"
      ]
     },
     "execution_count": 30,
     "metadata": {},
     "output_type": "execute_result"
    }
   ],
   "source": [
    "unstructured_docs"
   ]
  }
 ],
 "metadata": {
  "kernelspec": {
   "display_name": "RAG-hello-world",
   "language": "python",
   "name": "python3"
  },
  "language_info": {
   "codemirror_mode": {
    "name": "ipython",
    "version": 3
   },
   "file_extension": ".py",
   "mimetype": "text/x-python",
   "name": "python",
   "nbconvert_exporter": "python",
   "pygments_lexer": "ipython3",
   "version": "3.13.5"
  }
 },
 "nbformat": 4,
 "nbformat_minor": 5
}
