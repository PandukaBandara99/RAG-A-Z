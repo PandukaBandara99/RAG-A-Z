{
 "cells": [
  {
   "cell_type": "markdown",
   "id": "cc76ced2",
   "metadata": {},
   "source": [
    "# Json Parsing And Processing"
   ]
  },
  {
   "cell_type": "code",
   "execution_count": 2,
   "id": "bf84111d",
   "metadata": {},
   "outputs": [],
   "source": [
    "import json\n",
    "import os\n",
    "os.makedirs(\"data/json_files\",exist_ok=True)"
   ]
  },
  {
   "cell_type": "markdown",
   "id": "0db3dfbd",
   "metadata": {},
   "source": [
    "## Create Data"
   ]
  },
  {
   "cell_type": "code",
   "execution_count": 3,
   "id": "9c260a46",
   "metadata": {},
   "outputs": [],
   "source": [
    "# Sample nested JSON data\n",
    "json_data = {\n",
    "    \"company\": \"TechCorp\",\n",
    "    \"employees\": [\n",
    "        {\n",
    "            \"id\": 1,\n",
    "            \"name\": \"John Doe\",\n",
    "            \"role\": \"Software Engineer\",\n",
    "            \"skills\": [\"Python\", \"JavaScript\", \"React\"],\n",
    "            \"projects\": [\n",
    "                {\"name\": \"RAG System\", \"status\": \"In Progress\"},\n",
    "                {\"name\": \"Data Pipeline\", \"status\": \"Completed\"}\n",
    "            ]\n",
    "        },\n",
    "        {\n",
    "            \"id\": 2,\n",
    "            \"name\": \"Jane Smith\",\n",
    "            \"role\": \"Data Scientist\",\n",
    "            \"skills\": [\"Python\", \"Machine Learning\", \"SQL\"],\n",
    "            \"projects\": [\n",
    "                {\"name\": \"ML Model\", \"status\": \"In Progress\"},\n",
    "                {\"name\": \"Analytics Dashboard\", \"status\": \"Planning\"}\n",
    "            ]\n",
    "        }\n",
    "    ],\n",
    "    \"departments\": {\n",
    "        \"engineering\": {\n",
    "            \"head\": \"Mike Johnson\",\n",
    "            \"budget\": 1000000,\n",
    "            \"team_size\": 25\n",
    "        },\n",
    "        \"data_science\": {\n",
    "            \"head\": \"Sarah Williams\",\n",
    "            \"budget\": 750000,\n",
    "            \"team_size\": 15\n",
    "        }\n",
    "    }\n",
    "}"
   ]
  },
  {
   "cell_type": "code",
   "execution_count": 4,
   "id": "6a48f34d",
   "metadata": {},
   "outputs": [
    {
     "data": {
      "text/plain": [
       "{'company': 'TechCorp',\n",
       " 'employees': [{'id': 1,\n",
       "   'name': 'John Doe',\n",
       "   'role': 'Software Engineer',\n",
       "   'skills': ['Python', 'JavaScript', 'React'],\n",
       "   'projects': [{'name': 'RAG System', 'status': 'In Progress'},\n",
       "    {'name': 'Data Pipeline', 'status': 'Completed'}]},\n",
       "  {'id': 2,\n",
       "   'name': 'Jane Smith',\n",
       "   'role': 'Data Scientist',\n",
       "   'skills': ['Python', 'Machine Learning', 'SQL'],\n",
       "   'projects': [{'name': 'ML Model', 'status': 'In Progress'},\n",
       "    {'name': 'Analytics Dashboard', 'status': 'Planning'}]}],\n",
       " 'departments': {'engineering': {'head': 'Mike Johnson',\n",
       "   'budget': 1000000,\n",
       "   'team_size': 25},\n",
       "  'data_science': {'head': 'Sarah Williams',\n",
       "   'budget': 750000,\n",
       "   'team_size': 15}}}"
      ]
     },
     "execution_count": 4,
     "metadata": {},
     "output_type": "execute_result"
    }
   ],
   "source": [
    "json_data"
   ]
  },
  {
   "cell_type": "code",
   "execution_count": 5,
   "id": "c0ecc521",
   "metadata": {},
   "outputs": [],
   "source": [
    "with open('data/json_files/company_data.json', 'w') as f:\n",
    "    json.dump(json_data, f, indent=2)"
   ]
  },
  {
   "cell_type": "code",
   "execution_count": 6,
   "id": "4e89f588",
   "metadata": {},
   "outputs": [],
   "source": [
    "# Save JSON Lines format\n",
    "jsonl_data = [\n",
    "    {\"timestamp\": \"2024-01-01\", \"event\": \"user_login\", \"user_id\": 123},\n",
    "    {\"timestamp\": \"2024-01-01\", \"event\": \"page_view\", \"user_id\": 123, \"page\": \"/home\"},\n",
    "    {\"timestamp\": \"2024-01-01\", \"event\": \"purchase\", \"user_id\": 123, \"amount\": 99.99}\n",
    "]\n",
    "\n",
    "with open('data/json_files/events.jsonl', 'w') as f:\n",
    "    for item in jsonl_data:\n",
    "        f.write(json.dumps(item) + '\\n')"
   ]
  },
  {
   "cell_type": "markdown",
   "id": "be462888",
   "metadata": {},
   "source": [
    "## Json Processing Stratergies"
   ]
  },
  {
   "cell_type": "markdown",
   "id": "91fe4727",
   "metadata": {},
   "source": [
    "### Method 1: Using JSONLoader with jq_schema"
   ]
  },
  {
   "cell_type": "code",
   "execution_count": 7,
   "id": "32a1f7a8",
   "metadata": {},
   "outputs": [
    {
     "name": "stdout",
     "output_type": "stream",
     "text": [
      "1️⃣ JSONLoader - Extract specific fields\n",
      "Loaded 2 employee documents\n",
      "First employee: {\"id\": 1, \"name\": \"John Doe\", \"role\": \"Software Engineer\", \"skills\": [\"Python\", \"JavaScript\", \"React\"], \"projects\": [{\"name\": \"RAG System\", \"status\": \"In Progress\"}, {\"name\": \"Data Pipeline\", \"status\"...\n",
      "[Document(metadata={'source': 'C:\\\\Users\\\\Panduka Bandara\\\\Desktop\\\\RAG-A-Z\\\\RAG-hello-world\\\\0-Data-Ingest-Parsing\\\\data\\\\json_files\\\\company_data.json', 'seq_num': 1}, page_content='{\"id\": 1, \"name\": \"John Doe\", \"role\": \"Software Engineer\", \"skills\": [\"Python\", \"JavaScript\", \"React\"], \"projects\": [{\"name\": \"RAG System\", \"status\": \"In Progress\"}, {\"name\": \"Data Pipeline\", \"status\": \"Completed\"}]}'), Document(metadata={'source': 'C:\\\\Users\\\\Panduka Bandara\\\\Desktop\\\\RAG-A-Z\\\\RAG-hello-world\\\\0-Data-Ingest-Parsing\\\\data\\\\json_files\\\\company_data.json', 'seq_num': 2}, page_content='{\"id\": 2, \"name\": \"Jane Smith\", \"role\": \"Data Scientist\", \"skills\": [\"Python\", \"Machine Learning\", \"SQL\"], \"projects\": [{\"name\": \"ML Model\", \"status\": \"In Progress\"}, {\"name\": \"Analytics Dashboard\", \"status\": \"Planning\"}]}')]\n"
     ]
    }
   ],
   "source": [
    "from langchain_community.document_loaders import JSONLoader\n",
    "import json\n",
    "\n",
    "# ----------------------------------------------------------\n",
    "# Method 1: Using JSONLoader with jq_schema\n",
    "# ----------------------------------------------------------\n",
    "# Purpose:\n",
    "#   To load and extract *specific fields or nested objects* from\n",
    "#   a JSON file using a jq-style query.\n",
    "#   This method is perfect for semi-structured JSON data like\n",
    "#   employee records, products, or API responses.\n",
    "# ----------------------------------------------------------\n",
    "\n",
    "print(\"1️⃣ JSONLoader - Extract specific fields\")\n",
    "\n",
    "# Create a JSONLoader instance\n",
    "employee_loader = JSONLoader(\n",
    "    file_path='data/json_files/company_data.json',  # Path to your JSON file\n",
    "    jq_schema='.employees[]',                       # jq query → extract each item inside the \"employees\" array\n",
    "    text_content=False                              # False = keep full JSON objects instead of plain text\n",
    ")\n",
    "\n",
    "# Load the data\n",
    "#    - Each extracted JSON object becomes one `Document` in LangChain\n",
    "#    - The loader automatically attaches metadata like file path, line number, etc.\n",
    "employee_docs = employee_loader.load()\n",
    "\n",
    "# Print how many employee documents were extracted\n",
    "print(f\"Loaded {len(employee_docs)} employee documents\")\n",
    "\n",
    "# Show a short preview of the first employee document\n",
    "print(f\"First employee: {employee_docs[0].page_content[:200]}...\")\n",
    "\n",
    "# (Optional) Print all employee docs — useful for inspection\n",
    "print(employee_docs)\n"
   ]
  },
  {
   "cell_type": "markdown",
   "id": "ca168345",
   "metadata": {},
   "source": [
    "### Method 2: Custom JSON processing for complex structures"
   ]
  },
  {
   "cell_type": "code",
   "execution_count": 8,
   "id": "e0ef19a4",
   "metadata": {},
   "outputs": [
    {
     "name": "stdout",
     "output_type": "stream",
     "text": [
      "\n",
      "2️⃣ Custom JSON Processing\n"
     ]
    }
   ],
   "source": [
    "# Method 2: Custom JSON processing for complex structures\n",
    "from typing import List\n",
    "from langchain_core.documents import Document\n",
    "import json\n",
    "\n",
    "print(\"\\n2️⃣ Custom JSON Processing\")\n",
    "\n",
    "def process_json_intelligently(filepath: str) -> List[Document]:\n",
    "    \"\"\"\n",
    "    Process a JSON file intelligently:\n",
    "      - Flattens nested structures (like employee projects)\n",
    "      - Preserves context in readable format\n",
    "      - Adds rich metadata for retrieval\n",
    "    \"\"\"\n",
    "\n",
    "    # Open and load JSON file\n",
    "    with open(filepath, 'r') as f:\n",
    "        data = json.load(f)\n",
    "\n",
    "    # Initialize a list to hold Document objects\n",
    "    documents = []\n",
    "\n",
    "    # Iterate over 'employees' array in JSON\n",
    "    for emp in data.get('employees', []):\n",
    "        # Build a readable, structured content string\n",
    "        content = f\"\"\"Employee Profile:\n",
    "        Name: {emp['name']}\n",
    "        Role: {emp['role']}\n",
    "        Skills: {', '.join(emp['skills'])}\n",
    "\n",
    "        Projects:\"\"\"\n",
    "        \n",
    "        # Add each project under the employee\n",
    "        for proj in emp.get('projects', []):\n",
    "            content += f\"\\n- {proj['name']} (Status: {proj['status']})\"\n",
    "        \n",
    "        # Create a LangChain Document for this employee\n",
    "        doc = Document(\n",
    "            page_content=content,  # The human-readable content\n",
    "            metadata={             # Rich metadata for filtering/search\n",
    "                'source': filepath,\n",
    "                'data_type': 'employee_profile',\n",
    "                'employee_id': emp['id'],\n",
    "                'employee_name': emp['name'],\n",
    "                'role': emp['role']\n",
    "            }\n",
    "        )\n",
    "\n",
    "        # Append the Document to the list\n",
    "        documents.append(doc)\n",
    "\n",
    "    # Return all processed Documents\n",
    "    return documents\n"
   ]
  },
  {
   "cell_type": "code",
   "execution_count": 9,
   "id": "9b3b7c87",
   "metadata": {},
   "outputs": [
    {
     "data": {
      "text/plain": [
       "[Document(metadata={'source': 'data/json_files/company_data.json', 'data_type': 'employee_profile', 'employee_id': 1, 'employee_name': 'John Doe', 'role': 'Software Engineer'}, page_content='Employee Profile:\\n        Name: John Doe\\n        Role: Software Engineer\\n        Skills: Python, JavaScript, React\\n\\n        Projects:\\n- RAG System (Status: In Progress)\\n- Data Pipeline (Status: Completed)'),\n",
       " Document(metadata={'source': 'data/json_files/company_data.json', 'data_type': 'employee_profile', 'employee_id': 2, 'employee_name': 'Jane Smith', 'role': 'Data Scientist'}, page_content='Employee Profile:\\n        Name: Jane Smith\\n        Role: Data Scientist\\n        Skills: Python, Machine Learning, SQL\\n\\n        Projects:\\n- ML Model (Status: In Progress)\\n- Analytics Dashboard (Status: Planning)')]"
      ]
     },
     "execution_count": 9,
     "metadata": {},
     "output_type": "execute_result"
    }
   ],
   "source": [
    "process_json_intelligently(\"data/json_files/company_data.json\")"
   ]
  },
  {
   "cell_type": "code",
   "execution_count": null,
   "id": "ac127c69",
   "metadata": {},
   "outputs": [],
   "source": []
  }
 ],
 "metadata": {
  "kernelspec": {
   "display_name": "RAG-hello-world",
   "language": "python",
   "name": "python3"
  },
  "language_info": {
   "codemirror_mode": {
    "name": "ipython",
    "version": 3
   },
   "file_extension": ".py",
   "mimetype": "text/x-python",
   "name": "python",
   "nbconvert_exporter": "python",
   "pygments_lexer": "ipython3",
   "version": "3.13.5"
  }
 },
 "nbformat": 4,
 "nbformat_minor": 5
}
