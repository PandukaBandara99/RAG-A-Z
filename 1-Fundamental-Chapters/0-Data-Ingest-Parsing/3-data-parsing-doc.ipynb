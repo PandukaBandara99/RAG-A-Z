{
 "cells": [
  {
   "cell_type": "markdown",
   "id": "7e7ac64f",
   "metadata": {},
   "source": [
    "# Word Document Processing"
   ]
  },
  {
   "cell_type": "code",
   "execution_count": 1,
   "id": "c90b8e33",
   "metadata": {},
   "outputs": [],
   "source": [
    "from langchain_community.document_loaders import Docx2txtLoader,UnstructuredWordDocumentLoader"
   ]
  },
  {
   "cell_type": "markdown",
   "id": "81ec1fa6",
   "metadata": {},
   "source": [
    "## Method 1 : Using Docx2txtLoader"
   ]
  },
  {
   "cell_type": "code",
   "execution_count": 3,
   "id": "62592c2a",
   "metadata": {},
   "outputs": [
    {
     "name": "stdout",
     "output_type": "stream",
     "text": [
      "1️ Using Docx2txtLoader\n",
      "Loaded 1 document(s)\n",
      "Content preview: Project Proposal: RAG Implementation\n",
      "\n",
      "Executive Summary\n",
      "\n",
      "This proposal outlines the implementation of a Retrieval-Augmented Generation system for our organization.\n",
      "\n",
      "Objectives\n",
      "\n",
      "Key objectives include:...\n",
      "Metadata: {'source': 'data/word_files/proposal.docx'}\n"
     ]
    }
   ],
   "source": [
    "## METHOD 1: Using Docx2txtLoader\n",
    "# This method uses LangChain’s Docx2txtLoader to load and extract text from a Word (.docx) document.\n",
    "\n",
    "print(\"1️ Using Docx2txtLoader\")\n",
    "\n",
    "try:\n",
    "    # Create an instance of the Docx2txtLoader class.\n",
    "    # This class automatically reads the .docx file and extracts all text content.\n",
    "    # You need to specify the full or relative path to your .docx file.\n",
    "    docx_loader = Docx2txtLoader(\"data/word_files/proposal.docx\")\n",
    "\n",
    "    # Load the document content.\n",
    "    # The 'load()' method returns a list of 'Document' objects (LangChain's standard data type).\n",
    "    # Each 'Document' contains:\n",
    "    #  - page_content → the extracted text from the document\n",
    "    #  - metadata → file metadata (like file path, page number, etc.)\n",
    "    docs = docx_loader.load()\n",
    "\n",
    "    # Print how many documents were loaded.\n",
    "    # Usually, this will be 1 for a single file, but if the loader splits it into multiple parts, this may be >1.\n",
    "    print(f\"Loaded {len(docs)} document(s)\")\n",
    "\n",
    "    # Print the first 200 characters of the document’s content as a preview.\n",
    "    # Useful for checking if the text was read correctly.\n",
    "    print(f\"Content preview: {docs[0].page_content[:200]}...\")\n",
    "\n",
    "    # Print the metadata of the loaded document.\n",
    "    # This often includes info like the file path and source.\n",
    "    print(f\"Metadata: {docs[0].metadata}\")\n",
    "\n",
    "# The try/except block is used to catch and display any errors that occur.\n",
    "# For example, if the file path is incorrect or the document is corrupted.\n",
    "except Exception as e:\n",
    "    print(f\"Error: {e}\")"
   ]
  },
  {
   "cell_type": "markdown",
   "id": "d9310099",
   "metadata": {},
   "source": [
    "## METHOD 2: Using UnstructuredWordDocumentLoader"
   ]
  },
  {
   "cell_type": "code",
   "execution_count": 6,
   "id": "53b5752d",
   "metadata": {},
   "outputs": [
    {
     "name": "stdout",
     "output_type": "stream",
     "text": [
      "\n",
      " Using UnstructuredWordDocumentLoader\n",
      "Loaded 20 elements\n",
      "\n",
      "Element 1:\n",
      "Type: Title\n",
      "Content: Project Proposal: RAG Implementation...\n",
      "\n",
      "Element 2:\n",
      "Type: Title\n",
      "Content: Executive Summary...\n",
      "\n",
      "Element 3:\n",
      "Type: NarrativeText\n",
      "Content: This proposal outlines the implementation of a Retrieval-Augmented Generation system for our organiz...\n"
     ]
    }
   ],
   "source": [
    "## METHOD 2: Using UnstructuredWordDocumentLoader\n",
    "# This method uses LangChain’s UnstructuredWordDocumentLoader.\n",
    "# It leverages the \"unstructured\" library to parse .docx files into fine-grained elements\n",
    "# like paragraphs, titles, tables, and lists — rather than one big chunk of text.\n",
    "\n",
    "print(\"\\n Using UnstructuredWordDocumentLoader\")\n",
    "\n",
    "try:\n",
    "    # Create an instance of the UnstructuredWordDocumentLoader.\n",
    "    # Arguments:\n",
    "    # - The first argument is the file path to the Word document.\n",
    "    # - The 'mode' argument defines how the text is split:\n",
    "    #     \"single\"   → loads the whole document as one text block.\n",
    "    #     \"elements\" → loads and separates text into individual elements (paragraphs, headers, etc.)\n",
    "    unstructured_loader = UnstructuredWordDocumentLoader(\n",
    "        \"data/word_files/proposal.docx\",\n",
    "        mode=\"elements\"\n",
    "    )\n",
    "\n",
    "    # Load the document.\n",
    "    # Returns a list of LangChain Document objects.\n",
    "    # Each object corresponds to an \"element\" (e.g., paragraph, title, table).\n",
    "    unstructured_docs = unstructured_loader.load()\n",
    "\n",
    "    # Display the number of elements extracted from the Word file.\n",
    "    print(f\"Loaded {len(unstructured_docs)} elements\")\n",
    "\n",
    "    # Loop through and preview the first 3 elements.\n",
    "    for i, doc in enumerate(unstructured_docs[:3]):\n",
    "        print(f\"\\nElement {i + 1}:\")\n",
    "        \n",
    "        # 'category' metadata tells what kind of element it is (e.g., 'Title', 'Paragraph', 'Table').\n",
    "        # We use get('category', 'unknown') to avoid errors if the key doesn’t exist.\n",
    "        print(f\"Type: {doc.metadata.get('category', 'unknown')}\")\n",
    "        \n",
    "        # Show the first 100 characters of each element’s content for preview.\n",
    "        print(f\"Content: {doc.page_content[:100]}...\")\n",
    "\n",
    "# The try/except block helps handle errors gracefully\n",
    "# (for example, if the file doesn’t exist or the parsing fails).\n",
    "except Exception as e:\n",
    "    print(e)\n"
   ]
  },
  {
   "cell_type": "code",
   "execution_count": 7,
   "id": "41451ca9",
   "metadata": {},
   "outputs": [
    {
     "data": {
      "text/plain": [
       "[Document(metadata={'source': 'data/word_files/proposal.docx', 'category_depth': 0, 'file_directory': 'data/word_files', 'filename': 'proposal.docx', 'last_modified': '2025-06-28T15:37:12', 'languages': ['eng'], 'filetype': 'application/vnd.openxmlformats-officedocument.wordprocessingml.document', 'category': 'Title', 'element_id': 'bb0410bfd160ef866f8d4357b0949db2'}, page_content='Project Proposal: RAG Implementation'),\n",
       " Document(metadata={'source': 'data/word_files/proposal.docx', 'category_depth': 0, 'file_directory': 'data/word_files', 'filename': 'proposal.docx', 'last_modified': '2025-06-28T15:37:12', 'languages': ['eng'], 'filetype': 'application/vnd.openxmlformats-officedocument.wordprocessingml.document', 'category': 'Title', 'element_id': 'c0f844859abf08d9506856b3aed4a719'}, page_content='Executive Summary'),\n",
       " Document(metadata={'source': 'data/word_files/proposal.docx', 'category_depth': 0, 'file_directory': 'data/word_files', 'filename': 'proposal.docx', 'last_modified': '2025-06-28T15:37:12', 'languages': ['eng'], 'filetype': 'application/vnd.openxmlformats-officedocument.wordprocessingml.document', 'parent_id': 'c0f844859abf08d9506856b3aed4a719', 'category': 'NarrativeText', 'element_id': 'bbc04fc71e33a92df30d7fe7c33b6375'}, page_content='This proposal outlines the implementation of a Retrieval-Augmented Generation system for our organization.'),\n",
       " Document(metadata={'source': 'data/word_files/proposal.docx', 'category_depth': 0, 'file_directory': 'data/word_files', 'filename': 'proposal.docx', 'last_modified': '2025-06-28T15:37:12', 'languages': ['eng'], 'filetype': 'application/vnd.openxmlformats-officedocument.wordprocessingml.document', 'category': 'Title', 'element_id': 'a2c8ca6c90e23196fcf4be625007bbd6'}, page_content='Objectives'),\n",
       " Document(metadata={'source': 'data/word_files/proposal.docx', 'category_depth': 0, 'file_directory': 'data/word_files', 'filename': 'proposal.docx', 'last_modified': '2025-06-28T15:37:12', 'languages': ['eng'], 'filetype': 'application/vnd.openxmlformats-officedocument.wordprocessingml.document', 'parent_id': 'a2c8ca6c90e23196fcf4be625007bbd6', 'category': 'NarrativeText', 'element_id': '335654d234a93f0eb1e1e6798c633eb7'}, page_content='Key objectives include:'),\n",
       " Document(metadata={'source': 'data/word_files/proposal.docx', 'category_depth': 0, 'file_directory': 'data/word_files', 'filename': 'proposal.docx', 'last_modified': '2025-06-28T15:37:12', 'languages': ['eng'], 'filetype': 'application/vnd.openxmlformats-officedocument.wordprocessingml.document', 'parent_id': 'a2c8ca6c90e23196fcf4be625007bbd6', 'category': 'ListItem', 'element_id': 'a62787f7e487c3715929cc34a512d2df'}, page_content='Improve information retrieval accuracy'),\n",
       " Document(metadata={'source': 'data/word_files/proposal.docx', 'category_depth': 0, 'file_directory': 'data/word_files', 'filename': 'proposal.docx', 'last_modified': '2025-06-28T15:37:12', 'languages': ['eng'], 'filetype': 'application/vnd.openxmlformats-officedocument.wordprocessingml.document', 'parent_id': 'a2c8ca6c90e23196fcf4be625007bbd6', 'category': 'ListItem', 'element_id': '7403c111f034d07762a2ea3f9e77fd55'}, page_content='Reduce response time for customer queries'),\n",
       " Document(metadata={'source': 'data/word_files/proposal.docx', 'category_depth': 0, 'file_directory': 'data/word_files', 'filename': 'proposal.docx', 'last_modified': '2025-06-28T15:37:12', 'languages': ['eng'], 'filetype': 'application/vnd.openxmlformats-officedocument.wordprocessingml.document', 'parent_id': 'a2c8ca6c90e23196fcf4be625007bbd6', 'category': 'ListItem', 'element_id': 'b7a32dbf801712e0cbb4301b40fc1332'}, page_content='Integrate with existing knowledge base'),\n",
       " Document(metadata={'source': 'data/word_files/proposal.docx', 'category_depth': 0, 'file_directory': 'data/word_files', 'filename': 'proposal.docx', 'last_modified': '2025-06-28T15:37:12', 'languages': ['eng'], 'filetype': 'application/vnd.openxmlformats-officedocument.wordprocessingml.document', 'category': 'Title', 'element_id': '03384feebdc9dbc6c3e66f42a31ae4d4'}, page_content='Budget and Timeline'),\n",
       " Document(metadata={'source': 'data/word_files/proposal.docx', 'category_depth': 0, 'file_directory': 'data/word_files', 'filename': 'proposal.docx', 'last_modified': '2025-06-28T15:37:12', 'languages': ['eng'], 'filetype': 'application/vnd.openxmlformats-officedocument.wordprocessingml.document', 'parent_id': '03384feebdc9dbc6c3e66f42a31ae4d4', 'category': 'UncategorizedText', 'element_id': '2b656c76dce795af739297289ec70cb4'}, page_content='Budget: $50,000'),\n",
       " Document(metadata={'source': 'data/word_files/proposal.docx', 'category_depth': 0, 'file_directory': 'data/word_files', 'filename': 'proposal.docx', 'last_modified': '2025-06-28T15:37:12', 'languages': ['eng'], 'filetype': 'application/vnd.openxmlformats-officedocument.wordprocessingml.document', 'parent_id': '03384feebdc9dbc6c3e66f42a31ae4d4', 'category': 'UncategorizedText', 'element_id': '579456f56ae28a18e9113d256cf0c677'}, page_content='Timeline: 3 months'),\n",
       " Document(metadata={'source': 'data/word_files/proposal.docx', 'category_depth': 0, 'file_directory': 'data/word_files', 'filename': 'proposal.docx', 'last_modified': '2025-06-28T15:37:12', 'languages': ['eng'], 'filetype': 'application/vnd.openxmlformats-officedocument.wordprocessingml.document', 'parent_id': '03384feebdc9dbc6c3e66f42a31ae4d4', 'category': 'UncategorizedText', 'element_id': 'cd21a830803498d697e79322b08cb621'}, page_content='Team: 4 developers, 1 project manager'),\n",
       " Document(metadata={'source': 'data/word_files/proposal.docx', 'category_depth': 0, 'file_directory': 'data/word_files', 'filename': 'proposal.docx', 'last_modified': '2025-06-28T15:37:12', 'languages': ['eng'], 'filetype': 'application/vnd.openxmlformats-officedocument.wordprocessingml.document', 'category': 'Title', 'element_id': '79f776a9342d2b31ac42ee74e884601d'}, page_content='Technical Requirements'),\n",
       " Document(metadata={'source': 'data/word_files/proposal.docx', 'category_depth': 0, 'file_directory': 'data/word_files', 'filename': 'proposal.docx', 'last_modified': '2025-06-28T15:37:12', 'languages': ['eng'], 'filetype': 'application/vnd.openxmlformats-officedocument.wordprocessingml.document', 'parent_id': '79f776a9342d2b31ac42ee74e884601d', 'category': 'NarrativeText', 'element_id': 'bd3ed1f0473cc4dc2a91175293045731'}, page_content='Required technologies:'),\n",
       " Document(metadata={'source': 'data/word_files/proposal.docx', 'category_depth': 0, 'file_directory': 'data/word_files', 'filename': 'proposal.docx', 'last_modified': '2025-06-28T15:37:12', 'languages': ['eng'], 'filetype': 'application/vnd.openxmlformats-officedocument.wordprocessingml.document', 'parent_id': '79f776a9342d2b31ac42ee74e884601d', 'category': 'ListItem', 'element_id': 'bd3174066f748a60216ee2b8fec3e3c9'}, page_content='Python 3.8+'),\n",
       " Document(metadata={'source': 'data/word_files/proposal.docx', 'category_depth': 0, 'file_directory': 'data/word_files', 'filename': 'proposal.docx', 'last_modified': '2025-06-28T15:37:12', 'languages': ['eng'], 'filetype': 'application/vnd.openxmlformats-officedocument.wordprocessingml.document', 'parent_id': '79f776a9342d2b31ac42ee74e884601d', 'category': 'ListItem', 'element_id': 'e9c9cf7f0ab0b8741759b94fde3ca1ec'}, page_content='OpenAI API access'),\n",
       " Document(metadata={'source': 'data/word_files/proposal.docx', 'category_depth': 0, 'file_directory': 'data/word_files', 'filename': 'proposal.docx', 'last_modified': '2025-06-28T15:37:12', 'languages': ['eng'], 'filetype': 'application/vnd.openxmlformats-officedocument.wordprocessingml.document', 'parent_id': '79f776a9342d2b31ac42ee74e884601d', 'category': 'ListItem', 'element_id': 'c7afb3a7eb2cda7dfb6b6ca21f84a62c'}, page_content='Vector database (ChromaDB)'),\n",
       " Document(metadata={'source': 'data/word_files/proposal.docx', 'category_depth': 0, 'file_directory': 'data/word_files', 'filename': 'proposal.docx', 'last_modified': '2025-06-28T15:37:12', 'languages': ['eng'], 'filetype': 'application/vnd.openxmlformats-officedocument.wordprocessingml.document', 'parent_id': '79f776a9342d2b31ac42ee74e884601d', 'category': 'ListItem', 'element_id': 'a5c92389ea9457df2863111aa3643e9f'}, page_content='16GB RAM minimum'),\n",
       " Document(metadata={'source': 'data/word_files/proposal.docx', 'category_depth': 0, 'file_directory': 'data/word_files', 'filename': 'proposal.docx', 'last_modified': '2025-06-28T15:37:12', 'languages': ['eng'], 'filetype': 'application/vnd.openxmlformats-officedocument.wordprocessingml.document', 'category': 'Title', 'element_id': '7da2807bf22f20a489b6af8e62840a5a'}, page_content='Project Phases'),\n",
       " Document(metadata={'source': 'data/word_files/proposal.docx', 'file_directory': 'data/word_files', 'filename': 'proposal.docx', 'last_modified': '2025-06-28T15:37:12', 'text_as_html': '<table><tr><td>Phase</td><td>Duration</td><td>Deliverables</td></tr><tr><td>Research</td><td>2 weeks</td><td>Technology evaluation report</td></tr><tr><td>Development</td><td>8 weeks</td><td>Working RAG prototype</td></tr><tr><td>Testing</td><td>2 weeks</td><td>Performance benchmarks</td></tr></table>', 'languages': ['eng'], 'filetype': 'application/vnd.openxmlformats-officedocument.wordprocessingml.document', 'parent_id': '7da2807bf22f20a489b6af8e62840a5a', 'category': 'Table', 'element_id': 'e551119ba54073b0c9a4ac4d95ac929f'}, page_content='Phase Duration Deliverables Research 2 weeks Technology evaluation report Development 8 weeks Working RAG prototype Testing 2 weeks Performance benchmarks')]"
      ]
     },
     "execution_count": 7,
     "metadata": {},
     "output_type": "execute_result"
    }
   ],
   "source": [
    "unstructured_docs"
   ]
  },
  {
   "cell_type": "markdown",
   "id": "f6b6dfd1",
   "metadata": {},
   "source": [
    "## Best Methods"
   ]
  },
  {
   "cell_type": "markdown",
   "id": "86de671a",
   "metadata": {},
   "source": [
    "| #     | Method                                                            | Description                                                                                                 | Advantages                                                                                                             | Limitations                                                                                            | Best For                                                         |\n",
    "| ----- | ----------------------------------------------------------------- | ----------------------------------------------------------------------------------------------------------- | ------------------------------------------------------------------------------------------------------------------------ | --------------------------------------------------------------------------------------------------------- | ------------------------------------------------------------------- |\n",
    "| **1** |  **`Docx2txtLoader`**                                           | Uses the lightweight `docx2txt` library to extract plain text from `.docx`.                                 | - Fast and simple<br>- No external dependencies<br>- Good for clean text extraction                                      | - Loses structure (no headings, tables, or formatting info)<br>- Metadata is minimal                      | Quick text-only extraction for simple NLP or indexing               |\n",
    "| **2** |  **`UnstructuredWordDocumentLoader`**                           | Uses the `unstructured` library to parse `.docx` into logical elements (headings, paragraphs, tables, etc.) | - Preserves document structure<br>- Captures metadata (category, hierarchy)<br>- Works well with RAG and semantic search | - Slightly slower<br>- Requires `unstructured` library and dependencies (like `libmagic`, `pandas`, etc.) | Semantic document processing, RAG pipelines, content classification |\n",
    "| **3** |  **`DocxLoader` (from `langchain_community.document_loaders`)** | Uses `python-docx` under the hood; a balanced choice for text + moderate structure extraction.              | - Retains paragraph and heading separation<br>- Easy to use<br>- Pure Python                                             | - Tables and images not well handled<br>- Metadata minimal                                                | Moderate structure preservation with low setup effort               |\n",
    "| **4** |  **`UnstructuredFileLoader`**                                   | Auto-detects and handles multiple file types (PDF, DOCX, TXT, etc.) through the `unstructured` pipeline.    | - Unified interface for all file formats<br>- Good for multi-format pipelines                                            | - Overhead for single `.docx` use<br>- Less control over structure granularity                            | Pipelines that handle many file formats dynamically                 |\n",
    "| **5** |  **Manual with `python-docx`**                                  | Directly read and process `.docx` files using the low-level `python-docx` API.                              | - Full control over parsing (headings, tables, runs, styles)<br>- Can customize output                                   | - Requires manual iteration and formatting logic<br>- More code to write                                  | Custom loaders or preprocessing before feeding into LangChain       |\n"
   ]
  },
  {
   "cell_type": "code",
   "execution_count": null,
   "id": "07f12064",
   "metadata": {},
   "outputs": [],
   "source": []
  }
 ],
 "metadata": {
  "kernelspec": {
   "display_name": "RAG-hello-world",
   "language": "python",
   "name": "python3"
  },
  "language_info": {
   "codemirror_mode": {
    "name": "ipython",
    "version": 3
   },
   "file_extension": ".py",
   "mimetype": "text/x-python",
   "name": "python",
   "nbconvert_exporter": "python",
   "pygments_lexer": "ipython3",
   "version": "3.13.5"
  }
 },
 "nbformat": 4,
 "nbformat_minor": 5
}
